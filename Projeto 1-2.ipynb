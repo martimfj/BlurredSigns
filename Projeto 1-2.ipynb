{
 "cells": [
  {
   "cell_type": "code",
   "execution_count": null,
   "metadata": {},
   "outputs": [],
   "source": [
    "%reset -f\n",
    "%matplotlib inline\n",
    "\n",
    "import cv2\n",
    "import numpy as np\n",
    "import matplotlib.pyplot as plt"
   ]
  },
  {
   "cell_type": "markdown",
   "metadata": {},
   "source": [
    "# Projeto 1-2: Restauração de uma imagem de sinalização de trânsito\n",
    "\n",
    "Você está trabalhando em um projeto da nova versão do PatoPatoVai Street View. Seu objetivo é melhorar a qualidade das imagens obtidas pela câmera do veículo, especialmente em relação ao *motion blur* (pois a câmera está fixada no carro, e os solavancos da estrada podem resultar em borramento das imagens capturadas).\n",
    "\n",
    "Considere a imagem abaixo:"
   ]
  },
  {
   "cell_type": "code",
   "execution_count": null,
   "metadata": {},
   "outputs": [],
   "source": [
    "img_blur = cv2.cvtColor(cv2.imread('blur.png'), cv2.COLOR_BGR2GRAY) / 255.0\n",
    "\n",
    "plt.figure(figsize=(10, 8))\n",
    "plt.imshow(img_blur, cmap='gray');"
   ]
  },
  {
   "cell_type": "markdown",
   "metadata": {},
   "source": [
    "Está difícil saber a que altura da rua Forest Glen estamos. Sua equipe está desenvolvendo um primeiro protótipo de um sistema que, a partir desta imagem, gera uma imagem nítida e com perspectiva corrigida de cada uma das placas indicadoras da rua.\n",
    "\n",
    "Você foi encarregado de fazer uma primeira versão do melhoramento de imagem (*deblurring*, contraste, correção de perspectiva), onde parâmetros essenciais do *deblurring* (tamanho de kernel, orientação, tipo), do contraste e da correção de perspectiva (pontos notáveis) podem ser determinados manualmente. Na sua equipe tem outros engenheiros trabalhando no problema de detectar e segmentar as placas presentes na cena. \n",
    "\n",
    "Para facilitar a experimentação:\n",
    "\n",
    "- O Scikit-Image já tem uma função que faz o filtro de Wiener: ``skimage.restoration.wiener``\n",
    "\n",
    "- Segue código para fazer um *kernel* de *motion blur* dado o tamanho do kernel, o comprimento do segmento de reta, e o ângulo."
   ]
  },
  {
   "cell_type": "code",
   "execution_count": null,
   "metadata": {},
   "outputs": [],
   "source": [
    "from skimage.restoration import wiener\n",
    "\n",
    "def make_psf(shape, length, angle):\n",
    "    psf = np.zeros(shape)\n",
    "    rows, cols = shape\n",
    "    center = (cols//2, rows//2)\n",
    "    psf[center[1], center[0]:(center[0]+length)] = 1.0\n",
    "    M = cv2.getRotationMatrix2D(center, angle, 1)\n",
    "    psf = cv2.warpAffine(psf, M, psf.shape)\n",
    "    psf = psf / psf.sum()\n",
    "    return psf"
   ]
  },
  {
   "cell_type": "markdown",
   "metadata": {},
   "source": [
    "## Tarefa\n",
    "\n",
    "Escreva um programa que:\n",
    "\n",
    "- Corrige o *motion blur*\n",
    "    - Não é necessário neste projeto que o sistema escolha automaticamente os melhores parâmetros para o *deblurring*, determine-os manualmente.\n",
    "\n",
    "- Melhora o contraste\n",
    "    - Novamente, se precisar ajustar parâmetros manualmente, tudo bem. Escolha a técnica que quiser para melhoramento de contraste.\n",
    "    \n",
    "- Extrai a placa de rua com correção de perspectiva.\n",
    "    - Os pontos dos cantos da placa não precisam ser determinados automaticamente, escolha manualmente os pontos. A outra parte da sua equipe está trabalhando no outro problema.\n",
    "    \n",
    "\n",
    "### Rubrica\n",
    "\n",
    "- **I**: Entregou algo sem sentido ou muito incompleto (não atinge o nível *D*)\n",
    "\n",
    "- **D**: Entregou o projeto quase completo, mas faltaram 2 itens dentre os descritos acima.\n",
    "\n",
    "- **C**: Entregou o projeto quase completo, mas faltou 1 item dentre os descritos acima.\n",
    "\n",
    "- **B**: Entregou o projeto completo.\n",
    "\n",
    "- **A**: Entregou o projeto completo e testou alguma técnica mais avançada para resolver o problema do motion-blur. Ver o artigo \"Restoration of Motion-Blurred Image Based on Border Deformation Detection: A Traffic Sign Restoration Model\", em anexo no Blackboard."
   ]
  },
  {
   "cell_type": "code",
   "execution_count": null,
   "metadata": {},
   "outputs": [],
   "source": []
  }
 ],
 "metadata": {
  "kernelspec": {
   "display_name": "Python 3",
   "language": "python",
   "name": "python3"
  },
  "language_info": {
   "codemirror_mode": {
    "name": "ipython",
    "version": 3
   },
   "file_extension": ".py",
   "mimetype": "text/x-python",
   "name": "python",
   "nbconvert_exporter": "python",
   "pygments_lexer": "ipython3",
   "version": "3.6.6"
  }
 },
 "nbformat": 4,
 "nbformat_minor": 2
}
